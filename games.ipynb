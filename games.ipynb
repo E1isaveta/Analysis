{
 "cells": [
  {
   "cell_type": "markdown",
   "id": "ffe54999",
   "metadata": {},
   "source": [
    "# Research the patterns that determine the success of games\n",
    "\n",
    "Historical game sales data, user and expert ratings, genres and platforms (such as Xbox or PlayStation) are available from open sources.\n",
    "\n",
    "We can reveal the regularities that determine the success of the game.\n",
    "\n",
    "We have data up to 2016. It is necessary to work out the principle of working with data. Data for 2016 may not be complete.\n",
    "\n",
    "The abbreviation ESRB (Entertainment Software Rating Board) is an association that determines the age rating of computer games in the data set. The ESRB evaluates game content and assigns it to an appropriate age rating, such as Mature, Toddler, or Teen.\n",
    "\n",
    "Data Description\n",
    "\n",
    "- Name - the name of the game\n",
    "- Platform - platform\n",
    "- Year_of_Release - year of release\n",
    "- Genre - game genre\n",
    "- NA_sales - sales in North America (millions of copies sold)\n",
    "- EU_sales - sales in Europe (millions of copies sold)\n",
    "- JP_sales - sales in Japan (millions of copies sold)\n",
    "- Other_sales - sales in other countries (millions of copies sold)\n",
    "- Critic_Score - Critics score (maximum 100)\n",
    "- User_Score - user rating (maximum 10)\n",
    "- Rating — rating from the ESRB (Entertainment Software Rating Board). This association determines the rating of computer games and assigns them an appropriate age category."
   ]
  },
  {
   "cell_type": "markdown",
   "id": "accd31ad",
   "metadata": {},
   "source": [
    "## General information\n",
    "\n",
    "Import the required libraries"
   ]
  },
  {
   "cell_type": "code",
   "execution_count": 1,
   "id": "b814cdac",
   "metadata": {},
   "outputs": [],
   "source": [
    "import pandas as pd\n",
    "import numpy as np\n",
    "import matplotlib.pyplot as plt\n",
    "import re\n",
    "import seaborn as sns\n",
    "from scipy import stats as st"
   ]
  },
  {
   "cell_type": "markdown",
   "id": "d3bd1e3b",
   "metadata": {},
   "source": [
    "Load the data and save it in a variable"
   ]
  },
  {
   "cell_type": "code",
   "execution_count": 2,
   "id": "46a98dcf",
   "metadata": {},
   "outputs": [
    {
     "data": {
      "text/html": [
       "<div>\n",
       "<style scoped>\n",
       "    .dataframe tbody tr th:only-of-type {\n",
       "        vertical-align: middle;\n",
       "    }\n",
       "\n",
       "    .dataframe tbody tr th {\n",
       "        vertical-align: top;\n",
       "    }\n",
       "\n",
       "    .dataframe thead th {\n",
       "        text-align: right;\n",
       "    }\n",
       "</style>\n",
       "<table border=\"1\" class=\"dataframe\">\n",
       "  <thead>\n",
       "    <tr style=\"text-align: right;\">\n",
       "      <th></th>\n",
       "      <th>Name</th>\n",
       "      <th>Platform</th>\n",
       "      <th>Year_of_Release</th>\n",
       "      <th>Genre</th>\n",
       "      <th>NA_sales</th>\n",
       "      <th>EU_sales</th>\n",
       "      <th>JP_sales</th>\n",
       "      <th>Other_sales</th>\n",
       "      <th>Critic_Score</th>\n",
       "      <th>User_Score</th>\n",
       "      <th>Rating</th>\n",
       "    </tr>\n",
       "  </thead>\n",
       "  <tbody>\n",
       "    <tr>\n",
       "      <th>12564</th>\n",
       "      <td>Virtual Chess 64</td>\n",
       "      <td>N64</td>\n",
       "      <td>1998.0</td>\n",
       "      <td>Misc</td>\n",
       "      <td>0.05</td>\n",
       "      <td>0.01</td>\n",
       "      <td>0.00</td>\n",
       "      <td>0.00</td>\n",
       "      <td>NaN</td>\n",
       "      <td>NaN</td>\n",
       "      <td>NaN</td>\n",
       "    </tr>\n",
       "    <tr>\n",
       "      <th>9770</th>\n",
       "      <td>Atelier Sophie: The Alchemist of the Mysteriou...</td>\n",
       "      <td>PS4</td>\n",
       "      <td>2015.0</td>\n",
       "      <td>Role-Playing</td>\n",
       "      <td>0.03</td>\n",
       "      <td>0.02</td>\n",
       "      <td>0.06</td>\n",
       "      <td>0.01</td>\n",
       "      <td>75.0</td>\n",
       "      <td>8.1</td>\n",
       "      <td>NaN</td>\n",
       "    </tr>\n",
       "    <tr>\n",
       "      <th>5699</th>\n",
       "      <td>BlazBlue: Continuum Shift</td>\n",
       "      <td>X360</td>\n",
       "      <td>2010.0</td>\n",
       "      <td>Fighting</td>\n",
       "      <td>0.23</td>\n",
       "      <td>0.04</td>\n",
       "      <td>0.02</td>\n",
       "      <td>0.02</td>\n",
       "      <td>85.0</td>\n",
       "      <td>8.7</td>\n",
       "      <td>T</td>\n",
       "    </tr>\n",
       "    <tr>\n",
       "      <th>8294</th>\n",
       "      <td>Super Robot Taisen Compact 2 Dai-1-Bu</td>\n",
       "      <td>WS</td>\n",
       "      <td>2000.0</td>\n",
       "      <td>Strategy</td>\n",
       "      <td>0.00</td>\n",
       "      <td>0.00</td>\n",
       "      <td>0.17</td>\n",
       "      <td>0.00</td>\n",
       "      <td>NaN</td>\n",
       "      <td>NaN</td>\n",
       "      <td>NaN</td>\n",
       "    </tr>\n",
       "    <tr>\n",
       "      <th>2885</th>\n",
       "      <td>Madden NFL 09</td>\n",
       "      <td>PSP</td>\n",
       "      <td>2008.0</td>\n",
       "      <td>Sports</td>\n",
       "      <td>0.65</td>\n",
       "      <td>0.00</td>\n",
       "      <td>0.00</td>\n",
       "      <td>0.06</td>\n",
       "      <td>68.0</td>\n",
       "      <td>6.5</td>\n",
       "      <td>E</td>\n",
       "    </tr>\n",
       "    <tr>\n",
       "      <th>1270</th>\n",
       "      <td>Dead Rising 2</td>\n",
       "      <td>X360</td>\n",
       "      <td>2010.0</td>\n",
       "      <td>Action</td>\n",
       "      <td>0.75</td>\n",
       "      <td>0.52</td>\n",
       "      <td>0.09</td>\n",
       "      <td>0.12</td>\n",
       "      <td>79.0</td>\n",
       "      <td>6.9</td>\n",
       "      <td>M</td>\n",
       "    </tr>\n",
       "    <tr>\n",
       "      <th>14468</th>\n",
       "      <td>Otomedius Gorgeous</td>\n",
       "      <td>X360</td>\n",
       "      <td>2008.0</td>\n",
       "      <td>Shooter</td>\n",
       "      <td>0.00</td>\n",
       "      <td>0.00</td>\n",
       "      <td>0.03</td>\n",
       "      <td>0.00</td>\n",
       "      <td>NaN</td>\n",
       "      <td>NaN</td>\n",
       "      <td>NaN</td>\n",
       "    </tr>\n",
       "    <tr>\n",
       "      <th>10493</th>\n",
       "      <td>Top Gun: Combat Zones</td>\n",
       "      <td>GBA</td>\n",
       "      <td>2004.0</td>\n",
       "      <td>Simulation</td>\n",
       "      <td>0.07</td>\n",
       "      <td>0.03</td>\n",
       "      <td>0.00</td>\n",
       "      <td>0.00</td>\n",
       "      <td>NaN</td>\n",
       "      <td>NaN</td>\n",
       "      <td>NaN</td>\n",
       "    </tr>\n",
       "    <tr>\n",
       "      <th>4520</th>\n",
       "      <td>Just Dance 4</td>\n",
       "      <td>PS3</td>\n",
       "      <td>2012.0</td>\n",
       "      <td>Misc</td>\n",
       "      <td>0.26</td>\n",
       "      <td>0.11</td>\n",
       "      <td>0.00</td>\n",
       "      <td>0.06</td>\n",
       "      <td>77.0</td>\n",
       "      <td>7.1</td>\n",
       "      <td>E10+</td>\n",
       "    </tr>\n",
       "    <tr>\n",
       "      <th>8029</th>\n",
       "      <td>AirForce Delta Storm</td>\n",
       "      <td>XB</td>\n",
       "      <td>2001.0</td>\n",
       "      <td>Shooter</td>\n",
       "      <td>0.14</td>\n",
       "      <td>0.04</td>\n",
       "      <td>0.00</td>\n",
       "      <td>0.01</td>\n",
       "      <td>61.0</td>\n",
       "      <td>7.1</td>\n",
       "      <td>E</td>\n",
       "    </tr>\n",
       "  </tbody>\n",
       "</table>\n",
       "</div>"
      ],
      "text/plain": [
       "                                                    Name Platform  \\\n",
       "12564                                   Virtual Chess 64      N64   \n",
       "9770   Atelier Sophie: The Alchemist of the Mysteriou...      PS4   \n",
       "5699                           BlazBlue: Continuum Shift     X360   \n",
       "8294               Super Robot Taisen Compact 2 Dai-1-Bu       WS   \n",
       "2885                                       Madden NFL 09      PSP   \n",
       "1270                                       Dead Rising 2     X360   \n",
       "14468                                 Otomedius Gorgeous     X360   \n",
       "10493                              Top Gun: Combat Zones      GBA   \n",
       "4520                                        Just Dance 4      PS3   \n",
       "8029                                AirForce Delta Storm       XB   \n",
       "\n",
       "       Year_of_Release         Genre  NA_sales  EU_sales  JP_sales  \\\n",
       "12564           1998.0          Misc      0.05      0.01      0.00   \n",
       "9770            2015.0  Role-Playing      0.03      0.02      0.06   \n",
       "5699            2010.0      Fighting      0.23      0.04      0.02   \n",
       "8294            2000.0      Strategy      0.00      0.00      0.17   \n",
       "2885            2008.0        Sports      0.65      0.00      0.00   \n",
       "1270            2010.0        Action      0.75      0.52      0.09   \n",
       "14468           2008.0       Shooter      0.00      0.00      0.03   \n",
       "10493           2004.0    Simulation      0.07      0.03      0.00   \n",
       "4520            2012.0          Misc      0.26      0.11      0.00   \n",
       "8029            2001.0       Shooter      0.14      0.04      0.00   \n",
       "\n",
       "       Other_sales  Critic_Score User_Score Rating  \n",
       "12564         0.00           NaN        NaN    NaN  \n",
       "9770          0.01          75.0        8.1    NaN  \n",
       "5699          0.02          85.0        8.7      T  \n",
       "8294          0.00           NaN        NaN    NaN  \n",
       "2885          0.06          68.0        6.5      E  \n",
       "1270          0.12          79.0        6.9      M  \n",
       "14468         0.00           NaN        NaN    NaN  \n",
       "10493         0.00           NaN        NaN    NaN  \n",
       "4520          0.06          77.0        7.1   E10+  \n",
       "8029          0.01          61.0        7.1      E  "
      ]
     },
     "execution_count": 2,
     "metadata": {},
     "output_type": "execute_result"
    }
   ],
   "source": [
    "df = pd.read_csv('downloads/games.csv')\n",
    "df.sample(10)"
   ]
  },
  {
   "cell_type": "markdown",
   "id": "73e2dd55",
   "metadata": {},
   "source": [
    "Let's see the general information about the data"
   ]
  },
  {
   "cell_type": "code",
   "execution_count": 3,
   "id": "58d1799f",
   "metadata": {},
   "outputs": [
    {
     "name": "stdout",
     "output_type": "stream",
     "text": [
      "<class 'pandas.core.frame.DataFrame'>\n",
      "RangeIndex: 16715 entries, 0 to 16714\n",
      "Data columns (total 11 columns):\n",
      " #   Column           Non-Null Count  Dtype  \n",
      "---  ------           --------------  -----  \n",
      " 0   Name             16713 non-null  object \n",
      " 1   Platform         16715 non-null  object \n",
      " 2   Year_of_Release  16446 non-null  float64\n",
      " 3   Genre            16713 non-null  object \n",
      " 4   NA_sales         16715 non-null  float64\n",
      " 5   EU_sales         16715 non-null  float64\n",
      " 6   JP_sales         16715 non-null  float64\n",
      " 7   Other_sales      16715 non-null  float64\n",
      " 8   Critic_Score     8137 non-null   float64\n",
      " 9   User_Score       10014 non-null  object \n",
      " 10  Rating           9949 non-null   object \n",
      "dtypes: float64(6), object(5)\n",
      "memory usage: 1.4+ MB\n"
     ]
    }
   ],
   "source": [
    "df.info()"
   ]
  },
  {
   "cell_type": "markdown",
   "id": "37b29e6d",
   "metadata": {},
   "source": [
    "Let's get  a first look of the statistical characteristics."
   ]
  },
  {
   "cell_type": "code",
   "execution_count": 4,
   "id": "9970e91d",
   "metadata": {},
   "outputs": [
    {
     "data": {
      "text/html": [
       "<div>\n",
       "<style scoped>\n",
       "    .dataframe tbody tr th:only-of-type {\n",
       "        vertical-align: middle;\n",
       "    }\n",
       "\n",
       "    .dataframe tbody tr th {\n",
       "        vertical-align: top;\n",
       "    }\n",
       "\n",
       "    .dataframe thead th {\n",
       "        text-align: right;\n",
       "    }\n",
       "</style>\n",
       "<table border=\"1\" class=\"dataframe\">\n",
       "  <thead>\n",
       "    <tr style=\"text-align: right;\">\n",
       "      <th></th>\n",
       "      <th>Year_of_Release</th>\n",
       "      <th>NA_sales</th>\n",
       "      <th>EU_sales</th>\n",
       "      <th>JP_sales</th>\n",
       "      <th>Other_sales</th>\n",
       "      <th>Critic_Score</th>\n",
       "    </tr>\n",
       "  </thead>\n",
       "  <tbody>\n",
       "    <tr>\n",
       "      <th>count</th>\n",
       "      <td>16446.000000</td>\n",
       "      <td>16715.000000</td>\n",
       "      <td>16715.000000</td>\n",
       "      <td>16715.000000</td>\n",
       "      <td>16715.000000</td>\n",
       "      <td>8137.000000</td>\n",
       "    </tr>\n",
       "    <tr>\n",
       "      <th>mean</th>\n",
       "      <td>2006.484616</td>\n",
       "      <td>0.263377</td>\n",
       "      <td>0.145060</td>\n",
       "      <td>0.077617</td>\n",
       "      <td>0.047342</td>\n",
       "      <td>68.967679</td>\n",
       "    </tr>\n",
       "    <tr>\n",
       "      <th>std</th>\n",
       "      <td>5.877050</td>\n",
       "      <td>0.813604</td>\n",
       "      <td>0.503339</td>\n",
       "      <td>0.308853</td>\n",
       "      <td>0.186731</td>\n",
       "      <td>13.938165</td>\n",
       "    </tr>\n",
       "    <tr>\n",
       "      <th>min</th>\n",
       "      <td>1980.000000</td>\n",
       "      <td>0.000000</td>\n",
       "      <td>0.000000</td>\n",
       "      <td>0.000000</td>\n",
       "      <td>0.000000</td>\n",
       "      <td>13.000000</td>\n",
       "    </tr>\n",
       "    <tr>\n",
       "      <th>25%</th>\n",
       "      <td>2003.000000</td>\n",
       "      <td>0.000000</td>\n",
       "      <td>0.000000</td>\n",
       "      <td>0.000000</td>\n",
       "      <td>0.000000</td>\n",
       "      <td>60.000000</td>\n",
       "    </tr>\n",
       "    <tr>\n",
       "      <th>50%</th>\n",
       "      <td>2007.000000</td>\n",
       "      <td>0.080000</td>\n",
       "      <td>0.020000</td>\n",
       "      <td>0.000000</td>\n",
       "      <td>0.010000</td>\n",
       "      <td>71.000000</td>\n",
       "    </tr>\n",
       "    <tr>\n",
       "      <th>75%</th>\n",
       "      <td>2010.000000</td>\n",
       "      <td>0.240000</td>\n",
       "      <td>0.110000</td>\n",
       "      <td>0.040000</td>\n",
       "      <td>0.030000</td>\n",
       "      <td>79.000000</td>\n",
       "    </tr>\n",
       "    <tr>\n",
       "      <th>max</th>\n",
       "      <td>2016.000000</td>\n",
       "      <td>41.360000</td>\n",
       "      <td>28.960000</td>\n",
       "      <td>10.220000</td>\n",
       "      <td>10.570000</td>\n",
       "      <td>98.000000</td>\n",
       "    </tr>\n",
       "  </tbody>\n",
       "</table>\n",
       "</div>"
      ],
      "text/plain": [
       "       Year_of_Release      NA_sales      EU_sales      JP_sales  \\\n",
       "count     16446.000000  16715.000000  16715.000000  16715.000000   \n",
       "mean       2006.484616      0.263377      0.145060      0.077617   \n",
       "std           5.877050      0.813604      0.503339      0.308853   \n",
       "min        1980.000000      0.000000      0.000000      0.000000   \n",
       "25%        2003.000000      0.000000      0.000000      0.000000   \n",
       "50%        2007.000000      0.080000      0.020000      0.000000   \n",
       "75%        2010.000000      0.240000      0.110000      0.040000   \n",
       "max        2016.000000     41.360000     28.960000     10.220000   \n",
       "\n",
       "        Other_sales  Critic_Score  \n",
       "count  16715.000000   8137.000000  \n",
       "mean       0.047342     68.967679  \n",
       "std        0.186731     13.938165  \n",
       "min        0.000000     13.000000  \n",
       "25%        0.000000     60.000000  \n",
       "50%        0.010000     71.000000  \n",
       "75%        0.030000     79.000000  \n",
       "max       10.570000     98.000000  "
      ]
     },
     "execution_count": 4,
     "metadata": {},
     "output_type": "execute_result"
    }
   ],
   "source": [
    "df.describe()"
   ]
  },
  {
   "cell_type": "markdown",
   "id": "36d906b5",
   "metadata": {},
   "source": [
    "Columns with the year of issue, rating and rating have gaps."
   ]
  },
  {
   "cell_type": "markdown",
   "id": "00219bf8",
   "metadata": {},
   "source": [
    "## Data preparation\n",
    "\n",
    "Let's replace the column names - bring them to lower case"
   ]
  },
  {
   "cell_type": "code",
   "execution_count": 5,
   "id": "986e058f",
   "metadata": {},
   "outputs": [],
   "source": [
    "df.columns = df.columns.str.lower()"
   ]
  },
  {
   "cell_type": "markdown",
   "id": "ff42961d",
   "metadata": {},
   "source": [
    "Consider gaps in columns"
   ]
  },
  {
   "cell_type": "code",
   "execution_count": 6,
   "id": "667dabac",
   "metadata": {},
   "outputs": [
    {
     "data": {
      "text/html": [
       "<div>\n",
       "<style scoped>\n",
       "    .dataframe tbody tr th:only-of-type {\n",
       "        vertical-align: middle;\n",
       "    }\n",
       "\n",
       "    .dataframe tbody tr th {\n",
       "        vertical-align: top;\n",
       "    }\n",
       "\n",
       "    .dataframe thead th {\n",
       "        text-align: right;\n",
       "    }\n",
       "</style>\n",
       "<table border=\"1\" class=\"dataframe\">\n",
       "  <thead>\n",
       "    <tr style=\"text-align: right;\">\n",
       "      <th></th>\n",
       "      <th>name</th>\n",
       "    </tr>\n",
       "    <tr>\n",
       "      <th>platform</th>\n",
       "      <th></th>\n",
       "    </tr>\n",
       "  </thead>\n",
       "  <tbody>\n",
       "    <tr>\n",
       "      <th>DS</th>\n",
       "      <td>1683</td>\n",
       "    </tr>\n",
       "    <tr>\n",
       "      <th>PS</th>\n",
       "      <td>1044</td>\n",
       "    </tr>\n",
       "    <tr>\n",
       "      <th>PS2</th>\n",
       "      <td>1000</td>\n",
       "    </tr>\n",
       "    <tr>\n",
       "      <th>Wii</th>\n",
       "      <td>829</td>\n",
       "    </tr>\n",
       "    <tr>\n",
       "      <th>PSP</th>\n",
       "      <td>816</td>\n",
       "    </tr>\n",
       "    <tr>\n",
       "      <th>GBA</th>\n",
       "      <td>581</td>\n",
       "    </tr>\n",
       "    <tr>\n",
       "      <th>PS3</th>\n",
       "      <td>548</td>\n",
       "    </tr>\n",
       "    <tr>\n",
       "      <th>X360</th>\n",
       "      <td>385</td>\n",
       "    </tr>\n",
       "    <tr>\n",
       "      <th>3DS</th>\n",
       "      <td>363</td>\n",
       "    </tr>\n",
       "    <tr>\n",
       "      <th>N64</th>\n",
       "      <td>319</td>\n",
       "    </tr>\n",
       "  </tbody>\n",
       "</table>\n",
       "</div>"
      ],
      "text/plain": [
       "          name\n",
       "platform      \n",
       "DS        1683\n",
       "PS        1044\n",
       "PS2       1000\n",
       "Wii        829\n",
       "PSP        816\n",
       "GBA        581\n",
       "PS3        548\n",
       "X360       385\n",
       "3DS        363\n",
       "N64        319"
      ]
     },
     "execution_count": 6,
     "metadata": {},
     "output_type": "execute_result"
    }
   ],
   "source": [
    "df[\n",
    "    (df['user_score'].isna()) |\n",
    "    (df['user_score'] == 'tbd') |\n",
    "    (df['critic_score'].isna()) |\n",
    "    (df['rating'].isna())\n",
    "].groupby('platform').agg(\n",
    "    {'name':'count'}\n",
    ").sort_values('name', ascending=False).head(10)"
   ]
  },
  {
   "cell_type": "markdown",
   "id": "bb956b4a",
   "metadata": {},
   "source": [
    "Most of the passes are in the \"old\" platforms. Perhaps there were difficulties in collecting information about ratings and ratings in the past, or they were not \"rated\" in all regions"
   ]
  },
  {
   "cell_type": "code",
   "execution_count": 7,
   "id": "ebd6b3f9",
   "metadata": {
    "scrolled": true
   },
   "outputs": [
    {
     "data": {
      "text/html": [
       "<div>\n",
       "<style scoped>\n",
       "    .dataframe tbody tr th:only-of-type {\n",
       "        vertical-align: middle;\n",
       "    }\n",
       "\n",
       "    .dataframe tbody tr th {\n",
       "        vertical-align: top;\n",
       "    }\n",
       "\n",
       "    .dataframe thead th {\n",
       "        text-align: right;\n",
       "    }\n",
       "</style>\n",
       "<table border=\"1\" class=\"dataframe\">\n",
       "  <thead>\n",
       "    <tr style=\"text-align: right;\">\n",
       "      <th></th>\n",
       "      <th>name</th>\n",
       "      <th>platform</th>\n",
       "      <th>year_of_release</th>\n",
       "      <th>genre</th>\n",
       "      <th>na_sales</th>\n",
       "      <th>eu_sales</th>\n",
       "      <th>jp_sales</th>\n",
       "      <th>other_sales</th>\n",
       "      <th>critic_score</th>\n",
       "      <th>user_score</th>\n",
       "      <th>rating</th>\n",
       "    </tr>\n",
       "  </thead>\n",
       "  <tbody>\n",
       "    <tr>\n",
       "      <th>659</th>\n",
       "      <td>NaN</td>\n",
       "      <td>GEN</td>\n",
       "      <td>1993.0</td>\n",
       "      <td>NaN</td>\n",
       "      <td>1.78</td>\n",
       "      <td>0.53</td>\n",
       "      <td>0.00</td>\n",
       "      <td>0.08</td>\n",
       "      <td>NaN</td>\n",
       "      <td>NaN</td>\n",
       "      <td>NaN</td>\n",
       "    </tr>\n",
       "    <tr>\n",
       "      <th>14244</th>\n",
       "      <td>NaN</td>\n",
       "      <td>GEN</td>\n",
       "      <td>1993.0</td>\n",
       "      <td>NaN</td>\n",
       "      <td>0.00</td>\n",
       "      <td>0.00</td>\n",
       "      <td>0.03</td>\n",
       "      <td>0.00</td>\n",
       "      <td>NaN</td>\n",
       "      <td>NaN</td>\n",
       "      <td>NaN</td>\n",
       "    </tr>\n",
       "  </tbody>\n",
       "</table>\n",
       "</div>"
      ],
      "text/plain": [
       "      name platform  year_of_release genre  na_sales  eu_sales  jp_sales  \\\n",
       "659    NaN      GEN           1993.0   NaN      1.78      0.53      0.00   \n",
       "14244  NaN      GEN           1993.0   NaN      0.00      0.00      0.03   \n",
       "\n",
       "       other_sales  critic_score user_score rating  \n",
       "659           0.08           NaN        NaN    NaN  \n",
       "14244         0.00           NaN        NaN    NaN  "
      ]
     },
     "metadata": {},
     "output_type": "display_data"
    }
   ],
   "source": [
    "display(df[df['name'].isna()])"
   ]
  },
  {
   "cell_type": "markdown",
   "id": "89f43d4c",
   "metadata": {},
   "source": [
    "Two lines with unnamed games can be omitted from the dataset, as they are useless for further analysis. They also lack data on genre and ratings. The gaps in the column with the year of release of the game are less than two percent, they can also be removed"
   ]
  },
  {
   "cell_type": "code",
   "execution_count": 8,
   "id": "3c21e4f9",
   "metadata": {},
   "outputs": [],
   "source": [
    "df = df.dropna(subset=['name', 'year_of_release'])"
   ]
  },
  {
   "cell_type": "markdown",
   "id": "0477bdc7",
   "metadata": {},
   "source": [
    "'Year_of_release' can be converted to 'int', 'score' and'sales' remain in the 'float' format"
   ]
  },
  {
   "cell_type": "code",
   "execution_count": 9,
   "id": "0c356cd0",
   "metadata": {},
   "outputs": [],
   "source": [
    "df['year_of_release'] = df['year_of_release'].astype('int')"
   ]
  },
  {
   "cell_type": "markdown",
   "id": "51629a5c",
   "metadata": {},
   "source": [
    "We will not fill in the gaps in the columns with ratings and ratings - there are too many of them to do it \"manually\", and \"automatic\" options will give a distorted result. Some gaps in ratings may have been due to the unpopularity of the game in a particular region. Gaps in the rating will appear if the rating criteria in different regions are different, for example.\n",
    "\n",
    "In the column with user ratings, there are values \"tbd\" (to be discuss). They can be equated with \"NaN\", such games are underestimated"
   ]
  },
  {
   "cell_type": "code",
   "execution_count": 10,
   "id": "0184351b",
   "metadata": {},
   "outputs": [],
   "source": [
    "df['user_score'] = pd.to_numeric(df['user_score'], errors='coerce')"
   ]
  },
  {
   "cell_type": "markdown",
   "id": "881776fd",
   "metadata": {},
   "source": [
    "Let's calculate the total sales in all regions and write them in a separate column"
   ]
  },
  {
   "cell_type": "code",
   "execution_count": 11,
   "id": "92b74362",
   "metadata": {},
   "outputs": [
    {
     "data": {
      "text/html": [
       "<div>\n",
       "<style scoped>\n",
       "    .dataframe tbody tr th:only-of-type {\n",
       "        vertical-align: middle;\n",
       "    }\n",
       "\n",
       "    .dataframe tbody tr th {\n",
       "        vertical-align: top;\n",
       "    }\n",
       "\n",
       "    .dataframe thead th {\n",
       "        text-align: right;\n",
       "    }\n",
       "</style>\n",
       "<table border=\"1\" class=\"dataframe\">\n",
       "  <thead>\n",
       "    <tr style=\"text-align: right;\">\n",
       "      <th></th>\n",
       "      <th>name</th>\n",
       "      <th>platform</th>\n",
       "      <th>year_of_release</th>\n",
       "      <th>genre</th>\n",
       "      <th>na_sales</th>\n",
       "      <th>eu_sales</th>\n",
       "      <th>jp_sales</th>\n",
       "      <th>other_sales</th>\n",
       "      <th>world_sales</th>\n",
       "      <th>critic_score</th>\n",
       "      <th>user_score</th>\n",
       "      <th>rating</th>\n",
       "    </tr>\n",
       "  </thead>\n",
       "  <tbody>\n",
       "    <tr>\n",
       "      <th>4717</th>\n",
       "      <td>Top Spin 4</td>\n",
       "      <td>X360</td>\n",
       "      <td>2011</td>\n",
       "      <td>Sports</td>\n",
       "      <td>0.15</td>\n",
       "      <td>0.22</td>\n",
       "      <td>0.00</td>\n",
       "      <td>0.04</td>\n",
       "      <td>0.41</td>\n",
       "      <td>84.0</td>\n",
       "      <td>8.2</td>\n",
       "      <td>E</td>\n",
       "    </tr>\n",
       "    <tr>\n",
       "      <th>6878</th>\n",
       "      <td>Zumba Fitness: World Party</td>\n",
       "      <td>XOne</td>\n",
       "      <td>2013</td>\n",
       "      <td>Misc</td>\n",
       "      <td>0.17</td>\n",
       "      <td>0.05</td>\n",
       "      <td>0.00</td>\n",
       "      <td>0.02</td>\n",
       "      <td>0.24</td>\n",
       "      <td>73.0</td>\n",
       "      <td>6.2</td>\n",
       "      <td>E</td>\n",
       "    </tr>\n",
       "    <tr>\n",
       "      <th>2607</th>\n",
       "      <td>The Sims 2: Castaway</td>\n",
       "      <td>PSP</td>\n",
       "      <td>2007</td>\n",
       "      <td>Simulation</td>\n",
       "      <td>0.08</td>\n",
       "      <td>0.46</td>\n",
       "      <td>0.00</td>\n",
       "      <td>0.25</td>\n",
       "      <td>0.79</td>\n",
       "      <td>64.0</td>\n",
       "      <td>7.3</td>\n",
       "      <td>E10+</td>\n",
       "    </tr>\n",
       "    <tr>\n",
       "      <th>923</th>\n",
       "      <td>WCW Nitro</td>\n",
       "      <td>PS</td>\n",
       "      <td>1998</td>\n",
       "      <td>Fighting</td>\n",
       "      <td>1.42</td>\n",
       "      <td>0.36</td>\n",
       "      <td>0.03</td>\n",
       "      <td>0.07</td>\n",
       "      <td>1.88</td>\n",
       "      <td>NaN</td>\n",
       "      <td>NaN</td>\n",
       "      <td>NaN</td>\n",
       "    </tr>\n",
       "    <tr>\n",
       "      <th>278</th>\n",
       "      <td>FIFA 12</td>\n",
       "      <td>X360</td>\n",
       "      <td>2011</td>\n",
       "      <td>Sports</td>\n",
       "      <td>0.84</td>\n",
       "      <td>2.78</td>\n",
       "      <td>0.02</td>\n",
       "      <td>0.53</td>\n",
       "      <td>4.17</td>\n",
       "      <td>NaN</td>\n",
       "      <td>NaN</td>\n",
       "      <td>NaN</td>\n",
       "    </tr>\n",
       "    <tr>\n",
       "      <th>6431</th>\n",
       "      <td>Panzer Dragoon Orta</td>\n",
       "      <td>XB</td>\n",
       "      <td>2002</td>\n",
       "      <td>Shooter</td>\n",
       "      <td>0.16</td>\n",
       "      <td>0.05</td>\n",
       "      <td>0.04</td>\n",
       "      <td>0.01</td>\n",
       "      <td>0.26</td>\n",
       "      <td>90.0</td>\n",
       "      <td>8.5</td>\n",
       "      <td>T</td>\n",
       "    </tr>\n",
       "    <tr>\n",
       "      <th>7656</th>\n",
       "      <td>SpongeBob SquarePants: Revenge of the Flying D...</td>\n",
       "      <td>GC</td>\n",
       "      <td>2002</td>\n",
       "      <td>Platform</td>\n",
       "      <td>0.15</td>\n",
       "      <td>0.04</td>\n",
       "      <td>0.00</td>\n",
       "      <td>0.01</td>\n",
       "      <td>0.20</td>\n",
       "      <td>66.0</td>\n",
       "      <td>8.3</td>\n",
       "      <td>E</td>\n",
       "    </tr>\n",
       "    <tr>\n",
       "      <th>709</th>\n",
       "      <td>Battlefield 1</td>\n",
       "      <td>XOne</td>\n",
       "      <td>2016</td>\n",
       "      <td>Shooter</td>\n",
       "      <td>1.28</td>\n",
       "      <td>0.77</td>\n",
       "      <td>0.00</td>\n",
       "      <td>0.20</td>\n",
       "      <td>2.25</td>\n",
       "      <td>87.0</td>\n",
       "      <td>8.2</td>\n",
       "      <td>M</td>\n",
       "    </tr>\n",
       "    <tr>\n",
       "      <th>6154</th>\n",
       "      <td>Syphon Filter: Dark Mirror</td>\n",
       "      <td>PS2</td>\n",
       "      <td>2007</td>\n",
       "      <td>Shooter</td>\n",
       "      <td>0.14</td>\n",
       "      <td>0.11</td>\n",
       "      <td>0.00</td>\n",
       "      <td>0.04</td>\n",
       "      <td>0.29</td>\n",
       "      <td>70.0</td>\n",
       "      <td>7.8</td>\n",
       "      <td>T</td>\n",
       "    </tr>\n",
       "    <tr>\n",
       "      <th>6442</th>\n",
       "      <td>Shin Megami Tensei: Devil Survivor</td>\n",
       "      <td>DS</td>\n",
       "      <td>2009</td>\n",
       "      <td>Role-Playing</td>\n",
       "      <td>0.13</td>\n",
       "      <td>0.00</td>\n",
       "      <td>0.12</td>\n",
       "      <td>0.01</td>\n",
       "      <td>0.26</td>\n",
       "      <td>84.0</td>\n",
       "      <td>8.8</td>\n",
       "      <td>T</td>\n",
       "    </tr>\n",
       "  </tbody>\n",
       "</table>\n",
       "</div>"
      ],
      "text/plain": [
       "                                                   name platform  \\\n",
       "4717                                         Top Spin 4     X360   \n",
       "6878                         Zumba Fitness: World Party     XOne   \n",
       "2607                               The Sims 2: Castaway      PSP   \n",
       "923                                           WCW Nitro       PS   \n",
       "278                                             FIFA 12     X360   \n",
       "6431                                Panzer Dragoon Orta       XB   \n",
       "7656  SpongeBob SquarePants: Revenge of the Flying D...       GC   \n",
       "709                                       Battlefield 1     XOne   \n",
       "6154                         Syphon Filter: Dark Mirror      PS2   \n",
       "6442                 Shin Megami Tensei: Devil Survivor       DS   \n",
       "\n",
       "      year_of_release         genre  na_sales  eu_sales  jp_sales  \\\n",
       "4717             2011        Sports      0.15      0.22      0.00   \n",
       "6878             2013          Misc      0.17      0.05      0.00   \n",
       "2607             2007    Simulation      0.08      0.46      0.00   \n",
       "923              1998      Fighting      1.42      0.36      0.03   \n",
       "278              2011        Sports      0.84      2.78      0.02   \n",
       "6431             2002       Shooter      0.16      0.05      0.04   \n",
       "7656             2002      Platform      0.15      0.04      0.00   \n",
       "709              2016       Shooter      1.28      0.77      0.00   \n",
       "6154             2007       Shooter      0.14      0.11      0.00   \n",
       "6442             2009  Role-Playing      0.13      0.00      0.12   \n",
       "\n",
       "      other_sales  world_sales  critic_score  user_score rating  \n",
       "4717         0.04         0.41          84.0         8.2      E  \n",
       "6878         0.02         0.24          73.0         6.2      E  \n",
       "2607         0.25         0.79          64.0         7.3   E10+  \n",
       "923          0.07         1.88           NaN         NaN    NaN  \n",
       "278          0.53         4.17           NaN         NaN    NaN  \n",
       "6431         0.01         0.26          90.0         8.5      T  \n",
       "7656         0.01         0.20          66.0         8.3      E  \n",
       "709          0.20         2.25          87.0         8.2      M  \n",
       "6154         0.04         0.29          70.0         7.8      T  \n",
       "6442         0.01         0.26          84.0         8.8      T  "
      ]
     },
     "execution_count": 11,
     "metadata": {},
     "output_type": "execute_result"
    }
   ],
   "source": [
    "df.insert(8, 'world_sales', df['na_sales'] + df['eu_sales'] + df['jp_sales'] + df['other_sales'])\n",
    "df.sample(10)"
   ]
  },
  {
   "cell_type": "markdown",
   "id": "e95040fe",
   "metadata": {},
   "source": [
    "## Research data analysis\n",
    "\n",
    "Let's see how many games were released in different years"
   ]
  },
  {
   "cell_type": "code",
   "execution_count": 12,
   "id": "e9e06305",
   "metadata": {},
   "outputs": [
    {
     "data": {
      "image/png": "[encoded data removed]",
      "text/plain": [
       "<Figure size 864x432 with 1 Axes>"
      ]
     },
     "metadata": {
      "needs_background": "light"
     },
     "output_type": "display_data"
    }
   ],
   "source": [
    "df.pivot_table(\n",
    "    index='year_of_release', values='platform', aggfunc='count'\n",
    ").plot(kind='bar', grid=True, figsize=(12, 6));"
   ]
  },
  {
   "cell_type": "markdown",
   "id": "f1ce34c1",
   "metadata": {},
   "source": [
    "In the eighties and nineties, too few games were released, since 2002 there has been a sharp jump in number, but since 2012 there has been a decline. Perhaps from the \"quantity\" of the company releasing games switched to \"quality\".\n",
    "\n",
    "Let's see how sales changed by platform"
   ]
  },
  {
   "cell_type": "code",
   "execution_count": 13,
   "id": "d6299d73",
   "metadata": {},
   "outputs": [
    {
     "data": {
      "text/html": [
       "<div>\n",
       "<style scoped>\n",
       "    .dataframe tbody tr th:only-of-type {\n",
       "        vertical-align: middle;\n",
       "    }\n",
       "\n",
       "    .dataframe tbody tr th {\n",
       "        vertical-align: top;\n",
       "    }\n",
       "\n",
       "    .dataframe thead th {\n",
       "        text-align: right;\n",
       "    }\n",
       "</style>\n",
       "<table border=\"1\" class=\"dataframe\">\n",
       "  <thead>\n",
       "    <tr style=\"text-align: right;\">\n",
       "      <th></th>\n",
       "      <th>platform</th>\n",
       "      <th>world_sales</th>\n",
       "    </tr>\n",
       "  </thead>\n",
       "  <tbody>\n",
       "    <tr>\n",
       "      <th>16</th>\n",
       "      <td>PS2</td>\n",
       "      <td>1233.56</td>\n",
       "    </tr>\n",
       "    <tr>\n",
       "      <th>28</th>\n",
       "      <td>X360</td>\n",
       "      <td>961.24</td>\n",
       "    </tr>\n",
       "    <tr>\n",
       "      <th>17</th>\n",
       "      <td>PS3</td>\n",
       "      <td>931.34</td>\n",
       "    </tr>\n",
       "    <tr>\n",
       "      <th>26</th>\n",
       "      <td>Wii</td>\n",
       "      <td>891.18</td>\n",
       "    </tr>\n",
       "    <tr>\n",
       "      <th>4</th>\n",
       "      <td>DS</td>\n",
       "      <td>802.78</td>\n",
       "    </tr>\n",
       "  </tbody>\n",
       "</table>\n",
       "</div>"
      ],
      "text/plain": [
       "   platform  world_sales\n",
       "16      PS2      1233.56\n",
       "28     X360       961.24\n",
       "17      PS3       931.34\n",
       "26      Wii       891.18\n",
       "4        DS       802.78"
      ]
     },
     "execution_count": 13,
     "metadata": {},
     "output_type": "execute_result"
    }
   ],
   "source": [
    "sales_all = df.pivot_table(\n",
    "    index='platform', values='world_sales', aggfunc='sum'\n",
    ").reset_index().sort_values('world_sales', ascending=False).head()\n",
    "sales_all"
   ]
  },
  {
   "cell_type": "markdown",
   "id": "ac7b1d34",
   "metadata": {},
   "source": [
    "The platforms with the highest total sales are PlayStation, Xbox and Nintendo. Let's build the distribution by years for these platforms"
   ]
  },
  {
   "cell_type": "code",
   "execution_count": 14,
   "id": "8b60baad",
   "metadata": {
    "scrolled": false
   },
   "outputs": [
    {
     "data": {
      "image/png": "[encoded data removed]",
      "text/plain": [
       "<Figure size 864x432 with 1 Axes>"
      ]
     },
     "metadata": {
      "needs_background": "light"
     },
     "output_type": "display_data"
    },
    {
     "data": {
      "image/png": "[encoded data removed]",
      "text/plain": [
       "<Figure size 864x432 with 1 Axes>"
      ]
     },
     "metadata": {
      "needs_background": "light"
     },
     "output_type": "display_data"
    },
    {
     "data": {
      "image/png": "[encoded data removed]",
      "text/plain": [
       "<Figure size 864x432 with 1 Axes>"
      ]
     },
     "metadata": {
      "needs_background": "light"
     },
     "output_type": "display_data"
    },
    {
     "data": {
      "image/png": "[encoded data removed]",
      "text/plain": [
       "<Figure size 864x432 with 1 Axes>"
      ]
     },
     "metadata": {
      "needs_background": "light"
     },
     "output_type": "display_data"
    },
    {
     "data": {
      "image/png": "[encoded data removed]",
      "text/plain": [
       "<Figure size 864x432 with 1 Axes>"
      ]
     },
     "metadata": {
      "needs_background": "light"
     },
     "output_type": "display_data"
    }
   ],
   "source": [
    "for item in sales_all['platform']:\n",
    "    df[df['platform'] == item].pivot_table(\n",
    "        index=['year_of_release'], values='world_sales'\n",
    "    ).plot(kind='bar', legend=item, grid=True, figsize=(12, 6))\n",
    "    plt.title(item)\n",
    "    plt.show()"
   ]
  },
  {
   "cell_type": "markdown",
   "id": "d4fdf732",
   "metadata": {},
   "source": [
    "Judging by the graphs obtained, we can see that the PlayStation released games for 10 years for each of its first three consoles, Nintendo and Xbox have a similar period, the difference is only in total sales. In 2006, the Nintendo Wii made a big jump, but in subsequent years, sales dropped sharply and further evenly distributed. With the advent of the new, old platforms do not immediately disappear. Some time they \"go in parallel\".\n",
    "\n",
    "Let's take data for a short period prior to 2017 in order to build a forecast for it. We will consider the period 2014-2016 as relevant. It makes no sense to include earlier years, because the gaming industry is developing very dynamically and it is worth relying only on \"modern\" data"
   ]
  },
  {
   "cell_type": "code",
   "execution_count": 15,
   "id": "d50ffe28",
   "metadata": {},
   "outputs": [],
   "source": [
    "df_actual = df[df['year_of_release'] >= 2014]"
   ]
  },
  {
   "cell_type": "markdown",
   "id": "141cc418",
   "metadata": {},
   "source": [
    "Let's choose a few potentially profitable platforms"
   ]
  },
  {
   "cell_type": "code",
   "execution_count": 16,
   "id": "3aa74d4d",
   "metadata": {},
   "outputs": [
    {
     "data": {
      "text/html": [
       "<div>\n",
       "<style scoped>\n",
       "    .dataframe tbody tr th:only-of-type {\n",
       "        vertical-align: middle;\n",
       "    }\n",
       "\n",
       "    .dataframe tbody tr th {\n",
       "        vertical-align: top;\n",
       "    }\n",
       "\n",
       "    .dataframe thead th {\n",
       "        text-align: right;\n",
       "    }\n",
       "</style>\n",
       "<table border=\"1\" class=\"dataframe\">\n",
       "  <thead>\n",
       "    <tr style=\"text-align: right;\">\n",
       "      <th></th>\n",
       "      <th>world_sales</th>\n",
       "    </tr>\n",
       "    <tr>\n",
       "      <th>platform</th>\n",
       "      <th></th>\n",
       "    </tr>\n",
       "  </thead>\n",
       "  <tbody>\n",
       "    <tr>\n",
       "      <th>PS4</th>\n",
       "      <td>288.15</td>\n",
       "    </tr>\n",
       "    <tr>\n",
       "      <th>XOne</th>\n",
       "      <td>140.36</td>\n",
       "    </tr>\n",
       "    <tr>\n",
       "      <th>3DS</th>\n",
       "      <td>86.68</td>\n",
       "    </tr>\n",
       "    <tr>\n",
       "      <th>PS3</th>\n",
       "      <td>68.18</td>\n",
       "    </tr>\n",
       "    <tr>\n",
       "      <th>X360</th>\n",
       "      <td>48.22</td>\n",
       "    </tr>\n",
       "    <tr>\n",
       "      <th>WiiU</th>\n",
       "      <td>42.98</td>\n",
       "    </tr>\n",
       "    <tr>\n",
       "      <th>PC</th>\n",
       "      <td>27.05</td>\n",
       "    </tr>\n",
       "    <tr>\n",
       "      <th>PSV</th>\n",
       "      <td>22.40</td>\n",
       "    </tr>\n",
       "    <tr>\n",
       "      <th>Wii</th>\n",
       "      <td>5.07</td>\n",
       "    </tr>\n",
       "    <tr>\n",
       "      <th>PSP</th>\n",
       "      <td>0.36</td>\n",
       "    </tr>\n",
       "  </tbody>\n",
       "</table>\n",
       "</div>"
      ],
      "text/plain": [
       "          world_sales\n",
       "platform             \n",
       "PS4            288.15\n",
       "XOne           140.36\n",
       "3DS             86.68\n",
       "PS3             68.18\n",
       "X360            48.22\n",
       "WiiU            42.98\n",
       "PC              27.05\n",
       "PSV             22.40\n",
       "Wii              5.07\n",
       "PSP              0.36"
      ]
     },
     "execution_count": 16,
     "metadata": {},
     "output_type": "execute_result"
    }
   ],
   "source": [
    "sales = df_actual.pivot_table(\n",
    "    index='platform', values='world_sales', aggfunc='sum'\n",
    ").sort_values('world_sales', ascending=False)\n",
    "sales"
   ]
  },
  {
   "cell_type": "markdown",
   "id": "6c0c3f66",
   "metadata": {},
   "source": [
    "In \"our\" time period, only 10 platforms remained.\n",
    "The most profitable was PlayStaton - it met on the first, fourth, eighth and tenth places. Then comes the Xbox - second and fifth place. Nintendo met in third, sixth and ninth places. There are also games on personal computers on the list, but compared to game consoles, they do not \"stand\" the competition.\n",
    "\n",
    "Based on the previous findings, we can say that the first three platforms are worth considering. The next ones on the list are previous generations that \"live out their lives\" in parallel with modern counterparts (or portable versions).\n",
    "\n",
    "Let's plot a swing chart of global game sales by these platforms"
   ]
  },
  {
   "cell_type": "code",
   "execution_count": 17,
   "id": "0807e02e",
   "metadata": {},
   "outputs": [
    {
     "data": {
      "image/png": "[encoded data removed]",
      "text/plain": [
       "<Figure size 432x288 with 1 Axes>"
      ]
     },
     "metadata": {
      "needs_background": "light"
     },
     "output_type": "display_data"
    }
   ],
   "source": [
    "names = {'PS4', 'XOne', '3DS'}\n",
    "df_actual = df_actual.query('platform in @names')\n",
    "plt.xlim(0, 2)\n",
    "sns.boxplot(data=df_actual, x='world_sales', y='platform');"
   ]
  },
  {
   "cell_type": "markdown",
   "id": "a4a8f64a",
   "metadata": {},
   "source": [
    "Now it has become clear that almost the entire gaming market is divided between two platforms. The PlayStation leads in sales, although the median is slightly less than the Xbox.\n",
    "\n",
    "Let's see how the reviews of users and critics affect sales within the PlayStation. Let's build a scatterplot and calculate the correlation between reviews and sales"
   ]
  },
  {
   "cell_type": "code",
   "execution_count": 18,
   "id": "6fe1ae13",
   "metadata": {},
   "outputs": [
    {
     "name": "stdout",
     "output_type": "stream",
     "text": [
      "0.40266141068104083\n"
     ]
    },
    {
     "data": {
      "image/png": "[encoded data removed]",
      "text/plain": [
       "<Figure size 864x432 with 1 Axes>"
      ]
     },
     "metadata": {
      "needs_background": "light"
     },
     "output_type": "display_data"
    }
   ],
   "source": [
    "df_actual_ps = df_actual.query('platform == \"PS4\"')\n",
    "df_actual_ps.plot(x='critic_score', y='world_sales', style='.', grid=True, figsize=(12, 6))\n",
    "print(df_actual_ps['critic_score'].corr(df_actual_ps['world_sales']))"
   ]
  },
  {
   "cell_type": "code",
   "execution_count": 19,
   "id": "11c84363",
   "metadata": {},
   "outputs": [
    {
     "name": "stdout",
     "output_type": "stream",
     "text": [
      "-0.040131589472697356\n"
     ]
    },
    {
     "data": {
      "image/png": "[encoded data removed]",
      "text/plain": [
       "<Figure size 864x432 with 1 Axes>"
      ]
     },
     "metadata": {
      "needs_background": "light"
     },
     "output_type": "display_data"
    }
   ],
   "source": [
    "df_actual_ps.plot(x='user_score', y='world_sales', style='.', grid=True, figsize=(12, 6))\n",
    "print(df_actual_ps['user_score'].corr(df_actual_ps['world_sales']))"
   ]
  },
  {
   "cell_type": "markdown",
   "id": "8c41f26f",
   "metadata": {},
   "source": [
    "Critical reviews and overall PlayStation sales have some direct correlation. But user reviews have a very weak correlation with sales.\n",
    "\n",
    "Let's check the interdependence with sales of games on other platforms"
   ]
  },
  {
   "cell_type": "code",
   "execution_count": 20,
   "id": "1f361e29",
   "metadata": {},
   "outputs": [
    {
     "name": "stdout",
     "output_type": "stream",
     "text": [
      "0.42867694370333226\n"
     ]
    },
    {
     "data": {
      "image/png": "[encoded data removed]",
      "text/plain": [
       "<Figure size 864x432 with 1 Axes>"
      ]
     },
     "metadata": {
      "needs_background": "light"
     },
     "output_type": "display_data"
    }
   ],
   "source": [
    "df_actual_x = df_actual.query('platform == \"XOne\"')\n",
    "df_actual_x.plot(x='critic_score', y='world_sales', style='.', grid=True, figsize=(12, 6))\n",
    "print(df_actual_x['critic_score'].corr(df_actual_x['world_sales']))"
   ]
  },
  {
   "cell_type": "code",
   "execution_count": 21,
   "id": "c2a4766d",
   "metadata": {},
   "outputs": [
    {
     "name": "stdout",
     "output_type": "stream",
     "text": [
      "-0.0703839280647581\n"
     ]
    },
    {
     "data": {
      "image/png": "[encoded data removed]",
      "text/plain": [
       "<Figure size 864x432 with 1 Axes>"
      ]
     },
     "metadata": {
      "needs_background": "light"
     },
     "output_type": "display_data"
    }
   ],
   "source": [
    "df_actual_x.plot(x='user_score', y='world_sales', style='.', grid=True, figsize=(12, 6))\n",
    "print(df_actual_x['user_score'].corr(df_actual_x['world_sales']))"
   ]
  },
  {
   "cell_type": "markdown",
   "id": "d74d6b86",
   "metadata": {},
   "source": [
    "The correlation coefficient of XOne game sales is slightly higher for critics and even lower for users"
   ]
  },
  {
   "cell_type": "code",
   "execution_count": 22,
   "id": "49c7f362",
   "metadata": {},
   "outputs": [
    {
     "name": "stdout",
     "output_type": "stream",
     "text": [
      "0.314117492869051\n"
     ]
    },
    {
     "data": {
      "image/png": "[encoded data removed]",
      "text/plain": [
       "<Figure size 864x432 with 1 Axes>"
      ]
     },
     "metadata": {
      "needs_background": "light"
     },
     "output_type": "display_data"
    }
   ],
   "source": [
    "df_actual_ds = df_actual.query('platform == \"3DS\"')\n",
    "df_actual_ds.plot(x='critic_score', y='world_sales', style='.', grid=True, figsize=(12, 6))\n",
    "print(df_actual_ds['critic_score'].corr(df_actual_ds['world_sales']))"
   ]
  },
  {
   "cell_type": "code",
   "execution_count": 23,
   "id": "6f09bc2d",
   "metadata": {},
   "outputs": [
    {
     "name": "stdout",
     "output_type": "stream",
     "text": [
      "0.2151932718527028\n"
     ]
    },
    {
     "data": {
      "image/png": "[encoded data removed]",
      "text/plain": [
       "<Figure size 864x432 with 1 Axes>"
      ]
     },
     "metadata": {
      "needs_background": "light"
     },
     "output_type": "display_data"
    }
   ],
   "source": [
    "df_actual_ds.plot(x='user_score', y='world_sales', style='.', grid=True, figsize=(12, 6))\n",
    "print(df_actual_ds['user_score'].corr(df_actual_ds['world_sales']))"
   ]
  },
  {
   "cell_type": "markdown",
   "id": "d58ee720",
   "metadata": {},
   "source": [
    "In terms of game sales on Nintendo, the correlation coefficient is slightly lower in the case of critics, but slightly more significant in the case of users. That is, there is a small direct correlation, unlike this indicator for other platforms.\n",
    "\n",
    "Let's look at the general distribution of games by genre"
   ]
  },
  {
   "cell_type": "code",
   "execution_count": 24,
   "id": "a6c178dc",
   "metadata": {},
   "outputs": [
    {
     "data": {
      "image/png": "[encoded data removed]",
      "text/plain": [
       "<Figure size 864x432 with 1 Axes>"
      ]
     },
     "metadata": {
      "needs_background": "light"
     },
     "output_type": "display_data"
    }
   ],
   "source": [
    "df_actual.pivot_table(index=['genre'], values='world_sales').plot(kind='bar', grid=True, figsize=(12, 6));"
   ]
  },
  {
   "cell_type": "markdown",
   "id": "c02a75c7",
   "metadata": {},
   "source": [
    "The most profitable genre is Shooter. It really stands out from other genres"
   ]
  },
  {
   "cell_type": "markdown",
   "id": "0f0096f2",
   "metadata": {},
   "source": [
    "## User portrait of each region\n",
    "\n",
    "Let's define a user profile for each region (NA, EU, JP)"
   ]
  },
  {
   "cell_type": "code",
   "execution_count": 25,
   "id": "a61c0091",
   "metadata": {},
   "outputs": [
    {
     "data": {
      "image/png": "[encoded data removed]",
      "text/plain": [
       "<Figure size 864x432 with 1 Axes>"
      ]
     },
     "metadata": {
      "needs_background": "light"
     },
     "output_type": "display_data"
    },
    {
     "data": {
      "image/png": "[encoded data removed]",
      "text/plain": [
       "<Figure size 864x432 with 1 Axes>"
      ]
     },
     "metadata": {
      "needs_background": "light"
     },
     "output_type": "display_data"
    },
    {
     "data": {
      "image/png": "[encoded data removed]",
      "text/plain": [
       "<Figure size 864x432 with 1 Axes>"
      ]
     },
     "metadata": {
      "needs_background": "light"
     },
     "output_type": "display_data"
    }
   ],
   "source": [
    "for column in ['na_sales', 'eu_sales', 'jp_sales']:\n",
    "    df_actual.pivot_table(\n",
    "        index=['genre'], values=column\n",
    "    ).plot(kind='bar', legend=item, grid=True, figsize=(12, 6))\n",
    "    plt.title(column)\n",
    "    plt.show()"
   ]
  },
  {
   "cell_type": "code",
   "execution_count": 26,
   "id": "8a978f62",
   "metadata": {},
   "outputs": [
    {
     "data": {
      "image/png": "[encoded data removed]",
      "text/plain": [
       "<Figure size 432x432 with 1 Axes>"
      ]
     },
     "metadata": {
      "needs_background": "light"
     },
     "output_type": "display_data"
    },
    {
     "data": {
      "image/png": "[encoded data removed]",
      "text/plain": [
       "<Figure size 432x432 with 1 Axes>"
      ]
     },
     "metadata": {
      "needs_background": "light"
     },
     "output_type": "display_data"
    },
    {
     "data": {
      "image/png": "[encoded data removed]",
      "text/plain": [
       "<Figure size 432x432 with 1 Axes>"
      ]
     },
     "metadata": {
      "needs_background": "light"
     },
     "output_type": "display_data"
    }
   ],
   "source": [
    "for column in ['na_sales', 'eu_sales', 'jp_sales']:\n",
    "    df_actual.pivot_table(\n",
    "        index=['platform'], values=column\n",
    "    ).plot(kind='bar', legend=item, grid=True, figsize=(6, 6))\n",
    "    plt.title(column)\n",
    "    plt.show()"
   ]
  },
  {
   "cell_type": "markdown",
   "id": "5d688cfc",
   "metadata": {},
   "source": [
    "In America and Europe, sales of games in the Shooter genre are much higher than all others, while in Japan they are not so popular, they buy more role-playing games there.\n",
    "\n",
    "Platform preferences vary from region to region: in America, a significant proportion of users play on XOne, slightly less on PS; in Europe most on PS, almost half as much on XOne; and in Japan, these platforms are not popular, they play on the 3DS.\n",
    "\n",
    "Let's see if the rating affects sales volumes by region"
   ]
  },
  {
   "cell_type": "code",
   "execution_count": 27,
   "id": "43d0243e",
   "metadata": {},
   "outputs": [
    {
     "data": {
      "image/png": "[encoded data removed]",
      "text/plain": [
       "<Figure size 720x432 with 1 Axes>"
      ]
     },
     "metadata": {
      "needs_background": "light"
     },
     "output_type": "display_data"
    },
    {
     "data": {
      "image/png": "[encoded data removed]",
      "text/plain": [
       "<Figure size 720x432 with 1 Axes>"
      ]
     },
     "metadata": {
      "needs_background": "light"
     },
     "output_type": "display_data"
    },
    {
     "data": {
      "image/png": "[encoded data removed]",
      "text/plain": [
       "<Figure size 720x432 with 1 Axes>"
      ]
     },
     "metadata": {
      "needs_background": "light"
     },
     "output_type": "display_data"
    }
   ],
   "source": [
    "df_actual['rating'] = df_actual['rating'].fillna('unknown')\n",
    "for column in ['na_sales', 'eu_sales', 'jp_sales']:\n",
    "    df_actual.pivot_table(\n",
    "        index=['rating'], values=column\n",
    "    ).plot(kind='bar', legend=item, grid=True, figsize=(10, 6))\n",
    "    plt.title(column)\n",
    "    plt.show()"
   ]
  },
  {
   "cell_type": "markdown",
   "id": "c14d2f0f",
   "metadata": {},
   "source": [
    "The ESRB rating affects sales in America and Europe in the same way, there are more sales of games with an M rating. In Japan, the vast majority of sales are with an indeterminate rating. This is due to the fact that the ESRB rating system is American, Japan has its own system."
   ]
  },
  {
   "cell_type": "markdown",
   "id": "a83537b1",
   "metadata": {},
   "source": [
    "## Hypothesis testing\n",
    "\n",
    "Let's build and test a hypothesis about the user ratings of the XOne and PS platforms.\n",
    "\n",
    "Null hypothesis: The average user ratings of the XOne and PS platforms are the same.\n",
    "\n",
    "Alternative hypothesis: the average user ratings of the XOne and PS platforms are different.\n",
    "\n",
    "Samples vary in size and are normally distributed. We will use a two-sided T-test with unequal variances. First, we will remove the missing values of user ratings from the sample so that this does not distort the analysis"
   ]
  },
  {
   "cell_type": "code",
   "execution_count": 28,
   "id": "2139d453",
   "metadata": {},
   "outputs": [
    {
     "name": "stdout",
     "output_type": "stream",
     "text": [
      "p-value: 0.09571225278268487\n",
      "Not possible to reject the null hypothesis\n"
     ]
    }
   ],
   "source": [
    "df_actual_user = df_actual.dropna(subset=['user_score'])\n",
    "results = st.ttest_ind(\n",
    "    df_actual_user[df_actual_user['platform'] == 'PS4']['user_score'],\n",
    "    df_actual_user[df_actual_user['platform'] == 'XOne']['user_score'],\n",
    "    equal_var = False)\n",
    "\n",
    "print('p-value:', results.pvalue)\n",
    "if results.pvalue < .05:\n",
    "    print(\"Reject the null hypothesis\")\n",
    "else:\n",
    "    print(\"Not possible to reject the null hypothesis\")"
   ]
  },
  {
   "cell_type": "markdown",
   "id": "6bca5b19",
   "metadata": {},
   "source": [
    "In this case, the difference statistic is greater than the statistical significance. The probability of accidentally getting this or more difference is almost 10%. This is clearly too high a probability to conclude that there is a significant difference between the averages. That is, the averages for the PS4 and XOne platforms differ slightly.\n",
    "\n",
    "Let's build and test a hypothesis about the user ratings of the Action and Sports genres.\n",
    "\n",
    "Null Hypothesis: The average user ratings for the Action and Sports genres are the same.\n",
    "\n",
    "Alternative hypothesis: the average user rating of the Action genre is less than the rating of the Sports genre.\n",
    "\n",
    "Samples vary in size and are normally distributed. We will use a one-sided T-test with unequal variances"
   ]
  },
  {
   "cell_type": "code",
   "execution_count": 29,
   "id": "c1325632",
   "metadata": {},
   "outputs": [
    {
     "name": "stdout",
     "output_type": "stream",
     "text": [
      "p-value: nan\n",
      "Not possible to reject the null hypothesis\n"
     ]
    }
   ],
   "source": [
    "results = st.ttest_ind(\n",
    "    df_actual[df_actual['genre'] == 'Action']['user_score'],\n",
    "    df_actual[df_actual['genre'] == 'Sports']['user_score'],\n",
    "    equal_var = False)\n",
    "\n",
    "print('p-value:', results.pvalue)\n",
    "if results.pvalue < .05:\n",
    "    print(\"Reject the null hypothesis\")\n",
    "else:\n",
    "    print(\"Not possible to reject the null hypothesis\")"
   ]
  },
  {
   "cell_type": "markdown",
   "id": "7e33819c",
   "metadata": {},
   "source": [
    "The value of the difference statistics in the case of different genres is less than the statistical significance. The difference between these values ​​is quite large, that is, the probability of getting it by chance is very low. Here you can judge a significant difference between the Action and Sports genres. Sports is generally more popular than Action"
   ]
  },
  {
   "cell_type": "markdown",
   "id": "af61f5cb",
   "metadata": {},
   "source": [
    "## General conclusion\n",
    "\n",
    "Gaming platforms are developing quite quickly and it makes no sense to build forecasts based on a long period, a couple of years is enough. In recent years, there are not many platforms left and the most popular ones are the PlayStation in Europe, the Xbox in America and the Nintendo in Japan. You can rely on the ESRB rating system in America and Europe, for Japan you need to consider another option.\n",
    "\n",
    "Based on the data obtained, we can say that there is no universal \"product\" in the gaming industry. Everything depends on different factors. For example, from the sales market: if you focus on the European audience, then, most likely, you should start playing Shooter games for the PlayStation game console. In the Japanese market, teen role-playing games for the Nintendo are particularly popular."
   ]
  }
 ],
 "metadata": {
  "ExecuteTimeLog": [
   {
    "duration": 950,
    "start_time": "2022-06-10T11:17:00.705Z"
   },
   {
    "duration": 47,
    "start_time": "2022-06-10T11:17:01.657Z"
   },
   {
    "duration": 18,
    "start_time": "2022-06-10T11:17:01.706Z"
   },
   {
    "duration": 12,
    "start_time": "2022-06-10T11:17:01.726Z"
   },
   {
    "duration": 42,
    "start_time": "2022-06-10T11:17:01.740Z"
   },
   {
    "duration": 2,
    "start_time": "2022-06-10T11:17:01.784Z"
   },
   {
    "duration": 20,
    "start_time": "2022-06-10T11:17:01.793Z"
   },
   {
    "duration": 9,
    "start_time": "2022-06-10T11:17:01.816Z"
   },
   {
    "duration": 11,
    "start_time": "2022-06-10T11:17:01.826Z"
   },
   {
    "duration": 25,
    "start_time": "2022-06-10T11:17:01.840Z"
   },
   {
    "duration": 6,
    "start_time": "2022-06-10T11:17:01.866Z"
   },
   {
    "duration": 29,
    "start_time": "2022-06-10T11:17:01.873Z"
   },
   {
    "duration": 918,
    "start_time": "2022-06-10T11:17:01.903Z"
   },
   {
    "duration": 3,
    "start_time": "2022-06-10T11:17:02.823Z"
   },
   {
    "duration": 15,
    "start_time": "2022-06-10T11:17:02.827Z"
   },
   {
    "duration": 128,
    "start_time": "2022-06-10T11:17:02.844Z"
   },
   {
    "duration": 139,
    "start_time": "2022-06-10T11:17:02.974Z"
   },
   {
    "duration": 199,
    "start_time": "2022-06-10T11:17:03.115Z"
   },
   {
    "duration": 132,
    "start_time": "2022-06-10T11:17:03.315Z"
   },
   {
    "duration": 129,
    "start_time": "2022-06-10T11:17:03.448Z"
   },
   {
    "duration": 178,
    "start_time": "2022-06-10T11:17:03.579Z"
   },
   {
    "duration": 513,
    "start_time": "2022-06-10T11:17:03.759Z"
   },
   {
    "duration": 358,
    "start_time": "2022-06-10T11:17:04.274Z"
   },
   {
    "duration": 431,
    "start_time": "2022-06-10T11:17:04.633Z"
   },
   {
    "duration": 7,
    "start_time": "2022-06-10T11:17:05.065Z"
   },
   {
    "duration": 25,
    "start_time": "2022-06-10T11:17:05.073Z"
   },
   {
    "duration": 44,
    "start_time": "2022-06-10T15:13:48.523Z"
   },
   {
    "duration": 1197,
    "start_time": "2022-06-10T15:13:55.940Z"
   },
   {
    "duration": 88,
    "start_time": "2022-06-10T15:13:57.139Z"
   },
   {
    "duration": 21,
    "start_time": "2022-06-10T15:13:57.229Z"
   },
   {
    "duration": 13,
    "start_time": "2022-06-10T15:13:57.252Z"
   },
   {
    "duration": 26,
    "start_time": "2022-06-10T15:13:57.267Z"
   },
   {
    "duration": 3,
    "start_time": "2022-06-10T15:13:57.295Z"
   },
   {
    "duration": 119,
    "start_time": "2022-06-10T15:13:57.299Z"
   },
   {
    "duration": 0,
    "start_time": "2022-06-10T15:13:57.423Z"
   },
   {
    "duration": 0,
    "start_time": "2022-06-10T15:13:57.424Z"
   },
   {
    "duration": 0,
    "start_time": "2022-06-10T15:13:57.425Z"
   },
   {
    "duration": 0,
    "start_time": "2022-06-10T15:13:57.426Z"
   },
   {
    "duration": 0,
    "start_time": "2022-06-10T15:13:57.428Z"
   },
   {
    "duration": 0,
    "start_time": "2022-06-10T15:13:57.429Z"
   },
   {
    "duration": 0,
    "start_time": "2022-06-10T15:13:57.430Z"
   },
   {
    "duration": 0,
    "start_time": "2022-06-10T15:13:57.432Z"
   },
   {
    "duration": 0,
    "start_time": "2022-06-10T15:13:57.433Z"
   },
   {
    "duration": 0,
    "start_time": "2022-06-10T15:13:57.435Z"
   },
   {
    "duration": 0,
    "start_time": "2022-06-10T15:13:57.436Z"
   },
   {
    "duration": 0,
    "start_time": "2022-06-10T15:13:57.437Z"
   },
   {
    "duration": 0,
    "start_time": "2022-06-10T15:13:57.438Z"
   },
   {
    "duration": 0,
    "start_time": "2022-06-10T15:13:57.439Z"
   },
   {
    "duration": 0,
    "start_time": "2022-06-10T15:13:57.440Z"
   },
   {
    "duration": 0,
    "start_time": "2022-06-10T15:13:57.441Z"
   },
   {
    "duration": 0,
    "start_time": "2022-06-10T15:13:57.443Z"
   },
   {
    "duration": 0,
    "start_time": "2022-06-10T15:13:57.444Z"
   },
   {
    "duration": 0,
    "start_time": "2022-06-10T15:13:57.446Z"
   },
   {
    "duration": 0,
    "start_time": "2022-06-10T15:13:57.447Z"
   },
   {
    "duration": 6,
    "start_time": "2022-06-10T15:14:35.973Z"
   },
   {
    "duration": 40,
    "start_time": "2022-06-10T15:16:36.967Z"
   },
   {
    "duration": 8,
    "start_time": "2022-06-10T15:16:50.077Z"
   },
   {
    "duration": 9,
    "start_time": "2022-06-10T15:18:53.614Z"
   },
   {
    "duration": 3,
    "start_time": "2022-06-10T15:19:08.324Z"
   },
   {
    "duration": 71,
    "start_time": "2022-06-10T15:19:09.156Z"
   },
   {
    "duration": 17,
    "start_time": "2022-06-10T15:19:10.323Z"
   },
   {
    "duration": 14,
    "start_time": "2022-06-10T15:19:11.115Z"
   },
   {
    "duration": 28,
    "start_time": "2022-06-10T15:19:12.332Z"
   },
   {
    "duration": 3,
    "start_time": "2022-06-10T15:19:16.201Z"
   },
   {
    "duration": 20,
    "start_time": "2022-06-10T15:19:18.469Z"
   },
   {
    "duration": 11,
    "start_time": "2022-06-10T15:23:38.910Z"
   },
   {
    "duration": 21,
    "start_time": "2022-06-10T15:24:45.641Z"
   },
   {
    "duration": 10,
    "start_time": "2022-06-10T15:25:02.475Z"
   },
   {
    "duration": 12,
    "start_time": "2022-06-10T15:31:49.846Z"
   },
   {
    "duration": 13,
    "start_time": "2022-06-10T15:45:30.458Z"
   },
   {
    "duration": 1117,
    "start_time": "2022-06-10T15:45:40.092Z"
   },
   {
    "duration": 52,
    "start_time": "2022-06-10T15:45:41.211Z"
   },
   {
    "duration": 20,
    "start_time": "2022-06-10T15:45:41.264Z"
   },
   {
    "duration": 27,
    "start_time": "2022-06-10T15:45:41.286Z"
   },
   {
    "duration": 40,
    "start_time": "2022-06-10T15:45:41.314Z"
   },
   {
    "duration": 7,
    "start_time": "2022-06-10T15:45:41.355Z"
   },
   {
    "duration": 29,
    "start_time": "2022-06-10T15:45:41.364Z"
   },
   {
    "duration": 35,
    "start_time": "2022-06-10T15:45:41.395Z"
   },
   {
    "duration": 48,
    "start_time": "2022-06-10T15:45:41.431Z"
   },
   {
    "duration": 34,
    "start_time": "2022-06-10T15:45:41.482Z"
   },
   {
    "duration": 24,
    "start_time": "2022-06-10T15:45:41.517Z"
   },
   {
    "duration": 36,
    "start_time": "2022-06-10T15:45:41.543Z"
   },
   {
    "duration": 20,
    "start_time": "2022-06-10T15:45:41.581Z"
   },
   {
    "duration": 50,
    "start_time": "2022-06-10T15:45:41.603Z"
   },
   {
    "duration": 1046,
    "start_time": "2022-06-10T15:45:41.655Z"
   },
   {
    "duration": 6,
    "start_time": "2022-06-10T15:45:42.703Z"
   },
   {
    "duration": 30,
    "start_time": "2022-06-10T15:45:42.711Z"
   },
   {
    "duration": 135,
    "start_time": "2022-06-10T15:45:42.743Z"
   },
   {
    "duration": 160,
    "start_time": "2022-06-10T15:45:42.879Z"
   },
   {
    "duration": 237,
    "start_time": "2022-06-10T15:45:43.041Z"
   },
   {
    "duration": 163,
    "start_time": "2022-06-10T15:45:43.279Z"
   },
   {
    "duration": 143,
    "start_time": "2022-06-10T15:45:43.444Z"
   },
   {
    "duration": 196,
    "start_time": "2022-06-10T15:45:43.589Z"
   },
   {
    "duration": 552,
    "start_time": "2022-06-10T15:45:43.786Z"
   },
   {
    "duration": 435,
    "start_time": "2022-06-10T15:45:44.340Z"
   },
   {
    "duration": 546,
    "start_time": "2022-06-10T15:45:44.777Z"
   },
   {
    "duration": 7,
    "start_time": "2022-06-10T15:45:45.325Z"
   },
   {
    "duration": 24,
    "start_time": "2022-06-10T15:45:45.334Z"
   },
   {
    "duration": 12,
    "start_time": "2022-06-10T16:24:32.395Z"
   },
   {
    "duration": 13,
    "start_time": "2022-06-10T16:26:04.160Z"
   },
   {
    "duration": 17,
    "start_time": "2022-06-10T16:27:12.588Z"
   },
   {
    "duration": 120,
    "start_time": "2022-06-10T16:35:16.141Z"
   },
   {
    "duration": 17,
    "start_time": "2022-06-10T16:36:31.566Z"
   },
   {
    "duration": 18,
    "start_time": "2022-06-10T16:37:28.814Z"
   },
   {
    "duration": 17,
    "start_time": "2022-06-10T16:48:07.743Z"
   },
   {
    "duration": 19,
    "start_time": "2022-06-10T17:39:11.648Z"
   },
   {
    "duration": 24,
    "start_time": "2022-06-10T17:39:28.419Z"
   },
   {
    "duration": 18,
    "start_time": "2022-06-10T17:40:36.556Z"
   },
   {
    "duration": 11,
    "start_time": "2022-06-10T17:41:27.755Z"
   },
   {
    "duration": 15,
    "start_time": "2022-06-10T17:43:38.412Z"
   },
   {
    "duration": 21,
    "start_time": "2022-06-10T17:43:45.177Z"
   },
   {
    "duration": 22,
    "start_time": "2022-06-10T17:44:13.033Z"
   },
   {
    "duration": 11,
    "start_time": "2022-06-10T17:45:08.496Z"
   },
   {
    "duration": 11,
    "start_time": "2022-06-10T17:45:22.770Z"
   },
   {
    "duration": 27,
    "start_time": "2022-06-10T17:45:33.462Z"
   },
   {
    "duration": 12,
    "start_time": "2022-06-10T17:45:42.279Z"
   },
   {
    "duration": 15,
    "start_time": "2022-06-10T17:46:15.447Z"
   },
   {
    "duration": 16,
    "start_time": "2022-06-10T17:46:27.359Z"
   },
   {
    "duration": 16,
    "start_time": "2022-06-10T17:46:45.913Z"
   },
   {
    "duration": 15,
    "start_time": "2022-06-10T17:46:57.837Z"
   },
   {
    "duration": 15,
    "start_time": "2022-06-10T17:47:07.688Z"
   },
   {
    "duration": 15,
    "start_time": "2022-06-10T17:47:17.824Z"
   },
   {
    "duration": 13,
    "start_time": "2022-06-10T17:52:10.783Z"
   },
   {
    "duration": 15,
    "start_time": "2022-06-10T17:57:08.118Z"
   },
   {
    "duration": 14,
    "start_time": "2022-06-10T17:57:15.162Z"
   },
   {
    "duration": 15,
    "start_time": "2022-06-10T17:57:29.476Z"
   },
   {
    "duration": 14,
    "start_time": "2022-06-10T17:57:38.868Z"
   },
   {
    "duration": 28,
    "start_time": "2022-06-10T17:57:52.822Z"
   },
   {
    "duration": 15,
    "start_time": "2022-06-10T17:58:03.051Z"
   },
   {
    "duration": 15,
    "start_time": "2022-06-10T17:58:11.430Z"
   },
   {
    "duration": 20,
    "start_time": "2022-06-10T17:58:29.940Z"
   },
   {
    "duration": 16,
    "start_time": "2022-06-10T17:58:36.018Z"
   },
   {
    "duration": 18,
    "start_time": "2022-06-10T17:58:55.522Z"
   },
   {
    "duration": 13,
    "start_time": "2022-06-10T17:59:15.430Z"
   },
   {
    "duration": 9,
    "start_time": "2022-06-10T18:01:10.912Z"
   },
   {
    "duration": 11,
    "start_time": "2022-06-10T18:01:28.812Z"
   },
   {
    "duration": 12,
    "start_time": "2022-06-10T18:01:59.726Z"
   },
   {
    "duration": 8,
    "start_time": "2022-06-10T18:02:06.614Z"
   },
   {
    "duration": 10,
    "start_time": "2022-06-10T18:17:30.923Z"
   },
   {
    "duration": 294,
    "start_time": "2022-06-10T18:17:43.017Z"
   },
   {
    "duration": 21,
    "start_time": "2022-06-10T18:18:35.974Z"
   },
   {
    "duration": 326,
    "start_time": "2022-06-10T18:20:40.211Z"
   },
   {
    "duration": 281,
    "start_time": "2022-06-10T18:21:17.164Z"
   },
   {
    "duration": 324,
    "start_time": "2022-06-10T18:22:05.262Z"
   },
   {
    "duration": 513,
    "start_time": "2022-06-10T18:22:50.562Z"
   },
   {
    "duration": 364,
    "start_time": "2022-06-10T18:22:59.993Z"
   },
   {
    "duration": 397,
    "start_time": "2022-06-10T18:23:06.272Z"
   },
   {
    "duration": 343,
    "start_time": "2022-06-10T18:23:10.037Z"
   },
   {
    "duration": 14,
    "start_time": "2022-06-10T18:24:45.069Z"
   },
   {
    "duration": 21,
    "start_time": "2022-06-10T18:25:20.798Z"
   },
   {
    "duration": 574,
    "start_time": "2022-06-10T18:25:36.542Z"
   },
   {
    "duration": 16,
    "start_time": "2022-06-10T18:26:13.616Z"
   },
   {
    "duration": 950,
    "start_time": "2022-06-10T18:26:20.176Z"
   },
   {
    "duration": 147,
    "start_time": "2022-06-10T18:33:06.635Z"
   },
   {
    "duration": 135,
    "start_time": "2022-06-10T18:33:13.136Z"
   },
   {
    "duration": 139,
    "start_time": "2022-06-10T18:34:37.674Z"
   },
   {
    "duration": 153,
    "start_time": "2022-06-10T18:35:05.503Z"
   },
   {
    "duration": 406,
    "start_time": "2022-06-10T18:47:28.140Z"
   },
   {
    "duration": 1227,
    "start_time": "2022-06-10T21:15:46.175Z"
   },
   {
    "duration": 93,
    "start_time": "2022-06-10T21:15:47.404Z"
   },
   {
    "duration": 22,
    "start_time": "2022-06-10T21:15:47.498Z"
   },
   {
    "duration": 13,
    "start_time": "2022-06-10T21:15:47.522Z"
   },
   {
    "duration": 34,
    "start_time": "2022-06-10T21:15:47.537Z"
   },
   {
    "duration": 2,
    "start_time": "2022-06-10T21:15:47.573Z"
   },
   {
    "duration": 13,
    "start_time": "2022-06-10T21:15:47.576Z"
   },
   {
    "duration": 12,
    "start_time": "2022-06-10T21:15:47.590Z"
   },
   {
    "duration": 11,
    "start_time": "2022-06-10T21:15:47.603Z"
   },
   {
    "duration": 10,
    "start_time": "2022-06-10T21:15:47.617Z"
   },
   {
    "duration": 29,
    "start_time": "2022-06-10T21:15:47.629Z"
   },
   {
    "duration": 17,
    "start_time": "2022-06-10T21:15:47.660Z"
   },
   {
    "duration": 3,
    "start_time": "2022-06-10T21:15:47.678Z"
   },
   {
    "duration": 9,
    "start_time": "2022-06-10T21:15:47.683Z"
   },
   {
    "duration": 21,
    "start_time": "2022-06-10T21:15:47.694Z"
   },
   {
    "duration": 353,
    "start_time": "2022-06-10T21:15:47.716Z"
   },
   {
    "duration": 15,
    "start_time": "2022-06-10T21:15:48.071Z"
   },
   {
    "duration": 821,
    "start_time": "2022-06-10T21:15:48.088Z"
   },
   {
    "duration": 4,
    "start_time": "2022-06-10T21:15:48.910Z"
   },
   {
    "duration": 15,
    "start_time": "2022-06-10T21:15:48.916Z"
   },
   {
    "duration": 156,
    "start_time": "2022-06-10T21:15:48.933Z"
   },
   {
    "duration": 234,
    "start_time": "2022-06-10T21:15:49.090Z"
   },
   {
    "duration": 154,
    "start_time": "2022-06-10T21:15:49.326Z"
   },
   {
    "duration": 153,
    "start_time": "2022-06-10T21:15:49.482Z"
   },
   {
    "duration": 151,
    "start_time": "2022-06-10T21:15:49.636Z"
   },
   {
    "duration": 183,
    "start_time": "2022-06-10T21:15:49.788Z"
   },
   {
    "duration": 164,
    "start_time": "2022-06-10T21:15:49.972Z"
   },
   {
    "duration": 202,
    "start_time": "2022-06-10T21:15:50.140Z"
   },
   {
    "duration": 560,
    "start_time": "2022-06-10T21:15:50.351Z"
   },
   {
    "duration": 478,
    "start_time": "2022-06-10T21:15:50.913Z"
   },
   {
    "duration": 400,
    "start_time": "2022-06-10T21:15:51.392Z"
   },
   {
    "duration": 6,
    "start_time": "2022-06-10T21:15:51.794Z"
   },
   {
    "duration": 19,
    "start_time": "2022-06-10T21:15:51.801Z"
   },
   {
    "duration": 68,
    "start_time": "2022-06-11T13:03:09.909Z"
   },
   {
    "duration": 1396,
    "start_time": "2022-06-11T13:03:22.058Z"
   },
   {
    "duration": 212,
    "start_time": "2022-06-11T13:03:23.456Z"
   },
   {
    "duration": 34,
    "start_time": "2022-06-11T13:03:23.672Z"
   },
   {
    "duration": 17,
    "start_time": "2022-06-11T13:03:23.708Z"
   },
   {
    "duration": 58,
    "start_time": "2022-06-11T13:03:23.727Z"
   },
   {
    "duration": 3,
    "start_time": "2022-06-11T13:03:23.788Z"
   },
   {
    "duration": 13,
    "start_time": "2022-06-11T13:03:23.793Z"
   },
   {
    "duration": 20,
    "start_time": "2022-06-11T13:03:23.808Z"
   },
   {
    "duration": 16,
    "start_time": "2022-06-11T13:03:23.830Z"
   },
   {
    "duration": 19,
    "start_time": "2022-06-11T13:03:23.863Z"
   },
   {
    "duration": 20,
    "start_time": "2022-06-11T13:03:23.884Z"
   },
   {
    "duration": 25,
    "start_time": "2022-06-11T13:03:23.906Z"
   },
   {
    "duration": 42,
    "start_time": "2022-06-11T13:03:23.933Z"
   },
   {
    "duration": 12,
    "start_time": "2022-06-11T13:03:23.981Z"
   },
   {
    "duration": 28,
    "start_time": "2022-06-11T13:03:23.995Z"
   },
   {
    "duration": 403,
    "start_time": "2022-06-11T13:03:24.025Z"
   },
   {
    "duration": 30,
    "start_time": "2022-06-11T13:03:24.430Z"
   },
   {
    "duration": 1019,
    "start_time": "2022-06-11T13:03:24.462Z"
   },
   {
    "duration": 4,
    "start_time": "2022-06-11T13:03:25.483Z"
   },
   {
    "duration": 20,
    "start_time": "2022-06-11T13:03:25.489Z"
   },
   {
    "duration": 184,
    "start_time": "2022-06-11T13:03:25.512Z"
   },
   {
    "duration": 276,
    "start_time": "2022-06-11T13:03:25.697Z"
   },
   {
    "duration": 172,
    "start_time": "2022-06-11T13:03:25.976Z"
   },
   {
    "duration": 234,
    "start_time": "2022-06-11T13:03:26.150Z"
   },
   {
    "duration": 179,
    "start_time": "2022-06-11T13:03:26.387Z"
   },
   {
    "duration": 184,
    "start_time": "2022-06-11T13:03:26.567Z"
   },
   {
    "duration": 221,
    "start_time": "2022-06-11T13:03:26.758Z"
   },
   {
    "duration": 225,
    "start_time": "2022-06-11T13:03:26.983Z"
   },
   {
    "duration": 696,
    "start_time": "2022-06-11T13:03:27.210Z"
   },
   {
    "duration": 565,
    "start_time": "2022-06-11T13:03:27.908Z"
   },
   {
    "duration": 472,
    "start_time": "2022-06-11T13:03:28.476Z"
   },
   {
    "duration": 141,
    "start_time": "2022-06-11T13:03:28.961Z"
   },
   {
    "duration": 0,
    "start_time": "2022-06-11T13:03:29.104Z"
   },
   {
    "duration": 37,
    "start_time": "2022-06-11T13:04:05.857Z"
   },
   {
    "duration": 11,
    "start_time": "2022-06-11T13:05:27.585Z"
   },
   {
    "duration": 11,
    "start_time": "2022-06-11T13:44:26.810Z"
   },
   {
    "duration": 9,
    "start_time": "2022-06-11T13:45:35.540Z"
   },
   {
    "duration": 14,
    "start_time": "2022-06-11T13:48:22.522Z"
   },
   {
    "duration": 1223,
    "start_time": "2022-06-11T13:50:02.914Z"
   },
   {
    "duration": 65,
    "start_time": "2022-06-11T13:50:04.140Z"
   },
   {
    "duration": 25,
    "start_time": "2022-06-11T13:50:04.207Z"
   },
   {
    "duration": 19,
    "start_time": "2022-06-11T13:50:04.234Z"
   },
   {
    "duration": 39,
    "start_time": "2022-06-11T13:50:04.255Z"
   },
   {
    "duration": 3,
    "start_time": "2022-06-11T13:50:04.296Z"
   },
   {
    "duration": 18,
    "start_time": "2022-06-11T13:50:04.300Z"
   },
   {
    "duration": 13,
    "start_time": "2022-06-11T13:50:04.320Z"
   },
   {
    "duration": 42,
    "start_time": "2022-06-11T13:50:04.334Z"
   },
   {
    "duration": 12,
    "start_time": "2022-06-11T13:50:04.379Z"
   },
   {
    "duration": 16,
    "start_time": "2022-06-11T13:50:04.393Z"
   },
   {
    "duration": 20,
    "start_time": "2022-06-11T13:50:04.410Z"
   },
   {
    "duration": 25,
    "start_time": "2022-06-11T13:50:04.432Z"
   },
   {
    "duration": 18,
    "start_time": "2022-06-11T13:50:04.459Z"
   },
   {
    "duration": 25,
    "start_time": "2022-06-11T13:50:04.479Z"
   },
   {
    "duration": 427,
    "start_time": "2022-06-11T13:50:04.506Z"
   },
   {
    "duration": 37,
    "start_time": "2022-06-11T13:50:04.935Z"
   },
   {
    "duration": 1001,
    "start_time": "2022-06-11T13:50:04.975Z"
   },
   {
    "duration": 5,
    "start_time": "2022-06-11T13:50:05.978Z"
   },
   {
    "duration": 16,
    "start_time": "2022-06-11T13:50:05.985Z"
   },
   {
    "duration": 173,
    "start_time": "2022-06-11T13:50:06.003Z"
   },
   {
    "duration": 270,
    "start_time": "2022-06-11T13:50:06.178Z"
   },
   {
    "duration": 186,
    "start_time": "2022-06-11T13:50:06.449Z"
   },
   {
    "duration": 200,
    "start_time": "2022-06-11T13:50:06.637Z"
   },
   {
    "duration": 181,
    "start_time": "2022-06-11T13:50:06.838Z"
   },
   {
    "duration": 195,
    "start_time": "2022-06-11T13:50:07.021Z"
   },
   {
    "duration": 203,
    "start_time": "2022-06-11T13:50:07.217Z"
   },
   {
    "duration": 228,
    "start_time": "2022-06-11T13:50:07.423Z"
   },
   {
    "duration": 662,
    "start_time": "2022-06-11T13:50:07.655Z"
   },
   {
    "duration": 562,
    "start_time": "2022-06-11T13:50:08.319Z"
   },
   {
    "duration": 456,
    "start_time": "2022-06-11T13:50:08.884Z"
   },
   {
    "duration": 133,
    "start_time": "2022-06-11T13:50:09.341Z"
   },
   {
    "duration": 0,
    "start_time": "2022-06-11T13:50:09.476Z"
   },
   {
    "duration": 12,
    "start_time": "2022-06-11T13:51:58.525Z"
   },
   {
    "duration": 15,
    "start_time": "2022-06-11T13:52:50.418Z"
   }
  ],
  "kernelspec": {
   "display_name": "Python 3 (ipykernel)",
   "language": "python",
   "name": "python3"
  },
  "language_info": {
   "codemirror_mode": {
    "name": "ipython",
    "version": 3
   },
   "file_extension": ".py",
   "mimetype": "text/x-python",
   "name": "python",
   "nbconvert_exporter": "python",
   "pygments_lexer": "ipython3",
   "version": "3.9.7"
  },
  "toc": {
   "base_numbering": 1,
   "nav_menu": {},
   "number_sections": true,
   "sideBar": true,
   "skip_h1_title": true,
   "title_cell": "Table of Contents",
   "title_sidebar": "Contents",
   "toc_cell": false,
   "toc_position": {},
   "toc_section_display": true,
   "toc_window_display": true
  }
 },
 "nbformat": 4,
 "nbformat_minor": 5
}
